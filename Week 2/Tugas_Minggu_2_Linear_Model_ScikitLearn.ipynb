{
  "nbformat": 4,
  "nbformat_minor": 0,
  "metadata": {
    "colab": {
      "name": "Tugas_Minggu_2_Linear_Model_ScikitLearn.ipynb",
      "provenance": [],
      "include_colab_link": true
    },
    "kernelspec": {
      "name": "python3",
      "display_name": "Python 3"
    },
    "language_info": {
      "name": "python"
    }
  },
  "cells": [
    {
      "cell_type": "markdown",
      "metadata": {
        "id": "view-in-github",
        "colab_type": "text"
      },
      "source": [
        "<a href=\"https://colab.research.google.com/github/alvin-anandra-brilliandy/machine-learning-course-assigment/blob/main/Week%202/Tugas_Minggu_2_Linear_Model_ScikitLearn.ipynb\" target=\"_parent\"><img src=\"https://colab.research.google.com/assets/colab-badge.svg\" alt=\"Open In Colab\"/></a>"
      ]
    },
    {
      "cell_type": "markdown",
      "source": [
        "Nama : Alvin Anandra Brilliandy\n",
        "\n",
        "NIM : 1103190111\n",
        "\n",
        "Kelas : TK-42-PIL"
      ],
      "metadata": {
        "id": "R1KqOO49bQL-"
      }
    },
    {
      "cell_type": "markdown",
      "source": [
        "#Linear Models"
      ],
      "metadata": {
        "id": "XwleCYjLbWu6"
      }
    },
    {
      "cell_type": "markdown",
      "source": [
        "##Ordinary Least Squares"
      ],
      "metadata": {
        "id": "7iOntE0BbcNU"
      }
    },
    {
      "cell_type": "markdown",
      "source": [
        "`LinearRegression` fits a linear model with coefficients\n",
        "to minimize the residual sum of squares between the observed targets in the dataset, and the targets predicted by the linear approximation."
      ],
      "metadata": {
        "id": "hrtITMGAbim2"
      }
    },
    {
      "cell_type": "markdown",
      "source": [
        "`LinearRegression` will take in its fit method arrays X, y and will store the coefficients of the linear model in its coef_ member:"
      ],
      "metadata": {
        "id": "SAg0VxRbbp63"
      }
    },
    {
      "cell_type": "code",
      "execution_count": 1,
      "metadata": {
        "colab": {
          "base_uri": "https://localhost:8080/"
        },
        "id": "5eVL2sIXX0Wh",
        "outputId": "d68fd971-344d-4cee-bee9-961d57e21433"
      },
      "outputs": [
        {
          "output_type": "execute_result",
          "data": {
            "text/plain": [
              "LinearRegression()"
            ]
          },
          "metadata": {},
          "execution_count": 1
        }
      ],
      "source": [
        "from sklearn import linear_model\n",
        "reg = linear_model.LinearRegression()\n",
        "reg.fit([[0, 0], [1, 1], [2, 2]], [0, 1, 2])"
      ]
    },
    {
      "cell_type": "code",
      "source": [
        "reg.coef_"
      ],
      "metadata": {
        "colab": {
          "base_uri": "https://localhost:8080/"
        },
        "id": "ofKdDVQYb221",
        "outputId": "f71ef786-1e90-4b1b-87cc-ee4351ebfce3"
      },
      "execution_count": 2,
      "outputs": [
        {
          "output_type": "execute_result",
          "data": {
            "text/plain": [
              "array([0.5, 0.5])"
            ]
          },
          "metadata": {},
          "execution_count": 2
        }
      ]
    },
    {
      "cell_type": "markdown",
      "source": [
        "##Ridge regression and classification"
      ],
      "metadata": {
        "id": "t9P5c2UbdZiC"
      }
    },
    {
      "cell_type": "markdown",
      "source": [
        "`Ridge` regression addresses some of the problems of Ordinary Least Squares by imposing a penalty on the size of the coefficients. The ridge coefficients minimize a penalized residual sum of squares:"
      ],
      "metadata": {
        "id": "WLgjIw-6dgi8"
      }
    },
    {
      "cell_type": "code",
      "source": [
        "from sklearn import linear_model\n",
        "reg = linear_model.Ridge(alpha=.5)\n",
        "reg.fit([[0, 0], [0, 0], [1, 1]], [0, .1, 1])"
      ],
      "metadata": {
        "id": "V5BNBZPIdcHi",
        "outputId": "41db585b-8fba-4035-9600-000e8f0a32d0",
        "colab": {
          "base_uri": "https://localhost:8080/"
        }
      },
      "execution_count": 3,
      "outputs": [
        {
          "output_type": "execute_result",
          "data": {
            "text/plain": [
              "Ridge(alpha=0.5)"
            ]
          },
          "metadata": {},
          "execution_count": 3
        }
      ]
    },
    {
      "cell_type": "code",
      "source": [
        "reg.coef_\n"
      ],
      "metadata": {
        "id": "zFfHl9p5dqc3",
        "outputId": "824e0bbc-286b-4cd9-bd59-de75fd49dd53",
        "colab": {
          "base_uri": "https://localhost:8080/"
        }
      },
      "execution_count": 4,
      "outputs": [
        {
          "output_type": "execute_result",
          "data": {
            "text/plain": [
              "array([0.34545455, 0.34545455])"
            ]
          },
          "metadata": {},
          "execution_count": 4
        }
      ]
    },
    {
      "cell_type": "code",
      "source": [
        "reg.intercept_"
      ],
      "metadata": {
        "id": "obZvUACddr8S",
        "outputId": "489edf0f-4782-4ec8-dd0a-d70b17ad5030",
        "colab": {
          "base_uri": "https://localhost:8080/"
        }
      },
      "execution_count": 5,
      "outputs": [
        {
          "output_type": "execute_result",
          "data": {
            "text/plain": [
              "0.13636363636363638"
            ]
          },
          "metadata": {},
          "execution_count": 5
        }
      ]
    },
    {
      "cell_type": "markdown",
      "source": [
        "Setting the regularization parameter: leave-one-out Cross-Validation"
      ],
      "metadata": {
        "id": "mecEV_jfd5ts"
      }
    },
    {
      "cell_type": "code",
      "source": [
        "import numpy as np\n",
        "from sklearn import linear_model\n",
        "reg = linear_model.RidgeCV(alphas=np.logspace(-6, 6, 13))\n",
        "reg.fit([[0, 0], [0, 0], [1, 1]], [0, .1, 1])"
      ],
      "metadata": {
        "id": "N7frnGTtd6mW",
        "outputId": "b620b244-5083-4842-fb07-2d3b2c957c64",
        "colab": {
          "base_uri": "https://localhost:8080/"
        }
      },
      "execution_count": 6,
      "outputs": [
        {
          "output_type": "execute_result",
          "data": {
            "text/plain": [
              "RidgeCV(alphas=array([1.e-06, 1.e-05, 1.e-04, 1.e-03, 1.e-02, 1.e-01, 1.e+00, 1.e+01,\n",
              "       1.e+02, 1.e+03, 1.e+04, 1.e+05, 1.e+06]))"
            ]
          },
          "metadata": {},
          "execution_count": 6
        }
      ]
    },
    {
      "cell_type": "code",
      "source": [
        "reg.alpha_"
      ],
      "metadata": {
        "id": "WKjX6Ii1d_SQ",
        "outputId": "b33f5427-89bd-419d-8fe5-a777dcc775fd",
        "colab": {
          "base_uri": "https://localhost:8080/"
        }
      },
      "execution_count": 7,
      "outputs": [
        {
          "output_type": "execute_result",
          "data": {
            "text/plain": [
              "0.01"
            ]
          },
          "metadata": {},
          "execution_count": 7
        }
      ]
    },
    {
      "cell_type": "markdown",
      "source": [
        "##Lasso"
      ],
      "metadata": {
        "id": "486F0uWTeGRq"
      }
    },
    {
      "cell_type": "code",
      "source": [
        "from sklearn import linear_model\n",
        "reg = linear_model.Lasso(alpha=0.1)\n",
        "reg.fit([[0, 0], [1, 1]], [0, 1])"
      ],
      "metadata": {
        "id": "H_o5jQTHeF3f",
        "outputId": "9ada53d2-ac3c-47c6-8506-7cca097f4c99",
        "colab": {
          "base_uri": "https://localhost:8080/"
        }
      },
      "execution_count": 8,
      "outputs": [
        {
          "output_type": "execute_result",
          "data": {
            "text/plain": [
              "Lasso(alpha=0.1)"
            ]
          },
          "metadata": {},
          "execution_count": 8
        }
      ]
    },
    {
      "cell_type": "code",
      "source": [
        "reg.predict([[1, 1]])"
      ],
      "metadata": {
        "id": "F-mLBBQ_eLbu",
        "outputId": "a65579a5-9dd8-43bf-ca57-26e3e9413592",
        "colab": {
          "base_uri": "https://localhost:8080/"
        }
      },
      "execution_count": 9,
      "outputs": [
        {
          "output_type": "execute_result",
          "data": {
            "text/plain": [
              "array([0.8])"
            ]
          },
          "metadata": {},
          "execution_count": 9
        }
      ]
    },
    {
      "cell_type": "markdown",
      "source": [
        "##Multi-task Lasso"
      ],
      "metadata": {
        "id": "7HuRDIaVeZdh"
      }
    },
    {
      "cell_type": "markdown",
      "source": [
        "The MultiTaskLasso is a linear model that estimates sparse coefficients for multiple regression problems jointly: y is a 2D array, of shape (n_samples, n_tasks). The constraint is that the selected features are the same for all the regression problems, also called tasks."
      ],
      "metadata": {
        "id": "kCPrrGogebmc"
      }
    },
    {
      "cell_type": "markdown",
      "source": [
        "##Elastic-Net"
      ],
      "metadata": {
        "id": "6oMUdg88eefZ"
      }
    },
    {
      "cell_type": "markdown",
      "source": [
        "ElasticNet is a linear regression model trained with both\n",
        "and\n",
        "-norm regularization of the coefficients. This combination allows for learning a sparse model where few of the weights are non-zero like Lasso, while still maintaining the regularization properties of Ridge. We control the convex combination of\n",
        "and\n",
        "using the l1_ratio parameter."
      ],
      "metadata": {
        "id": "NTg6pAGCeovP"
      }
    },
    {
      "cell_type": "markdown",
      "source": [
        "##Multi-task Elastic-Net"
      ],
      "metadata": {
        "id": "a1vk7l5uer-S"
      }
    },
    {
      "cell_type": "markdown",
      "source": [
        "The MultiTaskElasticNet is an elastic-net model that estimates sparse coefficients for multiple regression problems jointly: Y is a 2D array of shape (n_samples, n_tasks). The constraint is that the selected features are the same for all the regression problems, also called tasks."
      ],
      "metadata": {
        "id": "L-N3vXWGeuia"
      }
    },
    {
      "cell_type": "markdown",
      "source": [
        "##Least Angle Regression"
      ],
      "metadata": {
        "id": "CGy3SUHXevL0"
      }
    },
    {
      "cell_type": "markdown",
      "source": [
        "Least-angle regression (LARS) is a regression algorithm for high-dimensional data, developed by Bradley Efron, Trevor Hastie, Iain Johnstone and Robert Tibshirani. LARS is similar to forward stepwise regression. At each step, it finds the feature most correlated with the target. When there are multiple features having equal correlation, instead of continuing along the same feature, it proceeds in a direction equiangular between the features."
      ],
      "metadata": {
        "id": "Rwi_VnRaeyPJ"
      }
    },
    {
      "cell_type": "markdown",
      "source": [
        "##LARS Lasso"
      ],
      "metadata": {
        "id": "qOyn4jhHe01r"
      }
    },
    {
      "cell_type": "markdown",
      "source": [
        "`LassoLars` is a lasso model implemented using the LARS algorithm, and unlike the implementation based on coordinate descent, this yields the exact solution, which is piecewise linear as a function of the norm of its coefficients."
      ],
      "metadata": {
        "id": "X1--ZWose2WY"
      }
    },
    {
      "cell_type": "code",
      "source": [
        "from sklearn import linear_model\n",
        "reg = linear_model.LassoLars(alpha=.1, normalize=False)\n",
        "reg.fit([[0, 0], [1, 1]], [0, 1])"
      ],
      "metadata": {
        "id": "HI5G9wlOeWM8",
        "outputId": "8e2a10e3-f839-49ee-d5fe-de0122ad9c16",
        "colab": {
          "base_uri": "https://localhost:8080/"
        }
      },
      "execution_count": 10,
      "outputs": [
        {
          "output_type": "execute_result",
          "data": {
            "text/plain": [
              "LassoLars(alpha=0.1, normalize=False)"
            ]
          },
          "metadata": {},
          "execution_count": 10
        }
      ]
    },
    {
      "cell_type": "code",
      "source": [
        "reg.coef_"
      ],
      "metadata": {
        "id": "F7SrLmwbe_On",
        "outputId": "5e067a03-0f4a-48f9-d1ca-dcbce0c02567",
        "colab": {
          "base_uri": "https://localhost:8080/"
        }
      },
      "execution_count": 11,
      "outputs": [
        {
          "output_type": "execute_result",
          "data": {
            "text/plain": [
              "array([0.6, 0. ])"
            ]
          },
          "metadata": {},
          "execution_count": 11
        }
      ]
    },
    {
      "cell_type": "markdown",
      "source": [
        "##Orthogonal Matching Pursuit (OMP)"
      ],
      "metadata": {
        "id": "USoN207MfHuq"
      }
    },
    {
      "cell_type": "markdown",
      "source": [
        "OrthogonalMatchingPursuit and orthogonal_mp implements the OMP algorithm for approximating the fit of a linear model with constraints imposed on the number of non-zero coefficients (ie. the\n",
        "pseudo-norm)."
      ],
      "metadata": {
        "id": "pKNCzs2vfKzK"
      }
    },
    {
      "cell_type": "markdown",
      "source": [
        "##Bayesian Regression"
      ],
      "metadata": {
        "id": "GlJVN_87fLdG"
      }
    },
    {
      "cell_type": "markdown",
      "source": [
        "Bayesian regression techniques can be used to include regularization parameters in the estimation procedure: the regularization parameter is not set in a hard sense but tuned to the data at hand."
      ],
      "metadata": {
        "id": "riIMIrBjfO-1"
      }
    },
    {
      "cell_type": "markdown",
      "source": [
        "Bayesian Ridge Regression is used for regression:"
      ],
      "metadata": {
        "id": "an_G2bFMfUfg"
      }
    },
    {
      "cell_type": "code",
      "source": [
        "from sklearn import linear_model\n",
        "X = [[0., 0.], [1., 1.], [2., 2.], [3., 3.]]\n",
        "Y = [0., 1., 2., 3.]\n",
        "reg = linear_model.BayesianRidge()\n",
        "reg.fit(X, Y)"
      ],
      "metadata": {
        "id": "Jt1KcJp9fWJ1",
        "outputId": "8bc42209-2aed-441d-9e3e-ac6da25d5a93",
        "colab": {
          "base_uri": "https://localhost:8080/"
        }
      },
      "execution_count": 12,
      "outputs": [
        {
          "output_type": "execute_result",
          "data": {
            "text/plain": [
              "BayesianRidge()"
            ]
          },
          "metadata": {},
          "execution_count": 12
        }
      ]
    },
    {
      "cell_type": "markdown",
      "source": [
        "After being fitted, the model can then be used to predict new values:"
      ],
      "metadata": {
        "id": "j_EMV6k_fbHL"
      }
    },
    {
      "cell_type": "code",
      "source": [
        "reg.predict([[1, 0.]])"
      ],
      "metadata": {
        "id": "kHBVEH8kfcEb",
        "outputId": "75fb8e69-68ec-417a-d343-66380c5eb163",
        "colab": {
          "base_uri": "https://localhost:8080/"
        }
      },
      "execution_count": 13,
      "outputs": [
        {
          "output_type": "execute_result",
          "data": {
            "text/plain": [
              "array([0.50000013])"
            ]
          },
          "metadata": {},
          "execution_count": 13
        }
      ]
    },
    {
      "cell_type": "markdown",
      "source": [
        "The coefficients of the model can be accessed:"
      ],
      "metadata": {
        "id": "APj-pLTQff15"
      }
    },
    {
      "cell_type": "code",
      "source": [
        "reg.coef_"
      ],
      "metadata": {
        "id": "qwiFqoIIfhhn",
        "outputId": "20aeeb5f-c12a-4e8b-b984-49d820f0a518",
        "colab": {
          "base_uri": "https://localhost:8080/"
        }
      },
      "execution_count": 14,
      "outputs": [
        {
          "output_type": "execute_result",
          "data": {
            "text/plain": [
              "array([0.49999993, 0.49999993])"
            ]
          },
          "metadata": {},
          "execution_count": 14
        }
      ]
    },
    {
      "cell_type": "markdown",
      "source": [
        "##Logistic regression"
      ],
      "metadata": {
        "id": "hby8D-jmfoT1"
      }
    },
    {
      "cell_type": "markdown",
      "source": [
        "Logistic regression, despite its name, is a linear model for classification rather than regression. Logistic regression is also known in the literature as logit regression, maximum-entropy classification (MaxEnt) or the log-linear classifier. In this model, the probabilities describing the possible outcomes of a single trial are modeled using a logistic function."
      ],
      "metadata": {
        "id": "D221dOc0fsSo"
      }
    },
    {
      "cell_type": "markdown",
      "source": [
        "##Generalized Linear Regression"
      ],
      "metadata": {
        "id": "ae1iCZWJfv3Q"
      }
    },
    {
      "cell_type": "markdown",
      "source": [
        "`TweedieRegressor` implements a generalized linear model for the Tweedie distribution, that allows to model any of the above mentioned distributions using the appropriate `power` parameter. In particular:"
      ],
      "metadata": {
        "id": "tbeg8f0Mf5Nu"
      }
    },
    {
      "cell_type": "markdown",
      "source": [
        "*   `power` = 0: `Normal` distribution. Specific estimators such as Ridge, ElasticNet\n",
        "are generally more appropriate in this case.\n",
        "*   `power` = 1: Poisson distribution. `PoissonRegressor` is exposed for convenience. However, it is strictly equivalent to `TweedieRegressor(power=1, link='log')`.\n",
        "\n",
        "*   `powe`r = 2: `Gamma` distribution. `GammaRegressor` is exposed for convenience. However, it is strictly equivalent to `TweedieRegressor(power=2, link='log')`.\n",
        "*   `Power` = 3: Inverse Gaussian distribution.\n",
        "\n",
        "The link function is determined by the link parameter."
      ],
      "metadata": {
        "id": "69wiBikbgCrU"
      }
    },
    {
      "cell_type": "code",
      "source": [
        "from sklearn.linear_model import TweedieRegressor\n",
        "reg = TweedieRegressor(power=1, alpha=0.5, link='log')\n",
        "reg.fit([[0, 0], [0, 1], [2, 2]], [0, 1, 2])"
      ],
      "metadata": {
        "id": "s_NuIQU7g2wG",
        "outputId": "266ae23d-2a76-442d-a93d-c438c5074466",
        "colab": {
          "base_uri": "https://localhost:8080/"
        }
      },
      "execution_count": 15,
      "outputs": [
        {
          "output_type": "execute_result",
          "data": {
            "text/plain": [
              "TweedieRegressor(alpha=0.5, link='log', power=1)"
            ]
          },
          "metadata": {},
          "execution_count": 15
        }
      ]
    },
    {
      "cell_type": "code",
      "source": [
        "reg.coef_"
      ],
      "metadata": {
        "id": "HhnA0ByLg3vP",
        "outputId": "fdeb28df-56b7-4c56-9fac-4e338cd550d5",
        "colab": {
          "base_uri": "https://localhost:8080/"
        }
      },
      "execution_count": 16,
      "outputs": [
        {
          "output_type": "execute_result",
          "data": {
            "text/plain": [
              "array([0.24631611, 0.43370317])"
            ]
          },
          "metadata": {},
          "execution_count": 16
        }
      ]
    },
    {
      "cell_type": "code",
      "source": [
        "reg.intercept_"
      ],
      "metadata": {
        "id": "aWi3_2N6g7_t",
        "outputId": "11eb7626-beef-43b4-d59a-7e225fb24720",
        "colab": {
          "base_uri": "https://localhost:8080/"
        }
      },
      "execution_count": 17,
      "outputs": [
        {
          "output_type": "execute_result",
          "data": {
            "text/plain": [
              "-0.7638091359123445"
            ]
          },
          "metadata": {},
          "execution_count": 17
        }
      ]
    },
    {
      "cell_type": "markdown",
      "source": [
        "##Stochastic Gradient Descent - SGD"
      ],
      "metadata": {
        "id": "kn98sd5chCT8"
      }
    },
    {
      "cell_type": "markdown",
      "source": [
        "Stochastic gradient descent is a simple yet very efficient approach to fit linear models. It is particularly useful when the number of samples (and the number of features) is very large. The partial_fit method allows online/out-of-core learning."
      ],
      "metadata": {
        "id": "4c2Bz5jEhFlS"
      }
    },
    {
      "cell_type": "markdown",
      "source": [
        "##Perceptron"
      ],
      "metadata": {
        "id": "vTBO0kkFhHkX"
      }
    },
    {
      "cell_type": "markdown",
      "source": [
        "The Perceptron is another simple classification algorithm suitable for large scale learning. By default:\n",
        "\n",
        "        \n",
        "*   It does not require a learning rate.\n",
        "\n",
        "*   It is not regularized (penalized).\n",
        "\n",
        "*   It updates its model only on mistakes.\n",
        "\n",
        "The last characteristic implies that the Perceptron is slightly faster to train than SGD with the hinge loss and that the resulting models are sparser."
      ],
      "metadata": {
        "id": "M6VVWE9DhKa5"
      }
    },
    {
      "cell_type": "markdown",
      "source": [
        "##Passive Aggressive Algorithms"
      ],
      "metadata": {
        "id": "_dFd8v2ehVqt"
      }
    },
    {
      "cell_type": "markdown",
      "source": [
        "The passive-aggressive algorithms are a family of algorithms for large-scale learning. They are similar to the Perceptron in that they do not require a learning rate. However, contrary to the Perceptron, they include a regularization parameter C."
      ],
      "metadata": {
        "id": "qIQcsij1hYu-"
      }
    },
    {
      "cell_type": "markdown",
      "source": [
        "##Robustness regression: outliers and modeling errors"
      ],
      "metadata": {
        "id": "g-oiG1qXhbws"
      }
    },
    {
      "cell_type": "markdown",
      "source": [
        "Robust regression aims to fit a regression model in the presence of corrupt data: either outliers, or error in the model."
      ],
      "metadata": {
        "id": "Uw_8JwVRhewJ"
      }
    },
    {
      "cell_type": "markdown",
      "source": [
        "##Quantile Regression"
      ],
      "metadata": {
        "id": "tTqQcNkXhjbG"
      }
    },
    {
      "cell_type": "markdown",
      "source": [
        "Quantile regression may be useful if one is interested in predicting an interval instead of point prediction. Sometimes, prediction intervals are calculated based on the assumption that prediction error is distributed normally with zero mean and constant variance. Quantile regression provides sensible prediction intervals even for errors with non-constant (but predictable) variance or non-normal distribution."
      ],
      "metadata": {
        "id": "EV09r8OahnDJ"
      }
    },
    {
      "cell_type": "markdown",
      "source": [
        "##Polynomial regression: extending linear models with basis functions"
      ],
      "metadata": {
        "id": "Frf0ocqBhpD7"
      }
    },
    {
      "cell_type": "markdown",
      "source": [
        "One common pattern within machine learning is to use linear models trained on nonlinear functions of the data. This approach maintains the generally fast performance of linear methods, while allowing them to fit a much wider range of data.\n",
        "\n",
        "For example, a simple linear regression can be extended by constructing **polynomial** features from the coefficients. "
      ],
      "metadata": {
        "id": "EofcbYB4htJR"
      }
    },
    {
      "cell_type": "markdown",
      "source": [
        "This figure is created using the `PolynomialFeatures` transformer, which transforms an input data matrix into a new data matrix of a given degree. It can be used as follows:"
      ],
      "metadata": {
        "id": "QYlU-uUIhxiL"
      }
    },
    {
      "cell_type": "code",
      "source": [
        "from sklearn.preprocessing import PolynomialFeatures\n",
        "import numpy as np\n",
        "X = np.arange(6).reshape(3, 2)\n",
        "X"
      ],
      "metadata": {
        "id": "iHkO_o5Rh0-4",
        "outputId": "a8c86fa1-05cf-4265-f300-6c1e6faf8d0e",
        "colab": {
          "base_uri": "https://localhost:8080/"
        }
      },
      "execution_count": 18,
      "outputs": [
        {
          "output_type": "execute_result",
          "data": {
            "text/plain": [
              "array([[0, 1],\n",
              "       [2, 3],\n",
              "       [4, 5]])"
            ]
          },
          "metadata": {},
          "execution_count": 18
        }
      ]
    },
    {
      "cell_type": "code",
      "source": [
        "poly = PolynomialFeatures(degree=2)\n",
        "poly.fit_transform(X)"
      ],
      "metadata": {
        "id": "MamuQQHeh12u",
        "outputId": "9b814b58-12ac-48db-ed23-a037c9baf9d7",
        "colab": {
          "base_uri": "https://localhost:8080/"
        }
      },
      "execution_count": 19,
      "outputs": [
        {
          "output_type": "execute_result",
          "data": {
            "text/plain": [
              "array([[ 1.,  0.,  1.,  0.,  0.,  1.],\n",
              "       [ 1.,  2.,  3.,  4.,  6.,  9.],\n",
              "       [ 1.,  4.,  5., 16., 20., 25.]])"
            ]
          },
          "metadata": {},
          "execution_count": 19
        }
      ]
    },
    {
      "cell_type": "markdown",
      "source": [
        "This sort of preprocessing can be streamlined with the Pipeline tools. A single object representing a simple polynomial regression can be created and used as follows:"
      ],
      "metadata": {
        "id": "gHLBjYciiAm6"
      }
    },
    {
      "cell_type": "code",
      "source": [
        "from sklearn.preprocessing import PolynomialFeatures\n",
        "from sklearn.linear_model import LinearRegression\n",
        "from sklearn.pipeline import Pipeline\n",
        "import numpy as np\n",
        "model = Pipeline([('poly', PolynomialFeatures(degree=3)),\n",
        "                  ('linear', LinearRegression(fit_intercept=False))])\n",
        "# fit to an order-3 polynomial data\n",
        "x = np.arange(5)\n",
        "y = 3 - 2 * x + x ** 2 - x ** 3\n",
        "model = model.fit(x[:, np.newaxis], y)\n",
        "model.named_steps['linear'].coef_"
      ],
      "metadata": {
        "id": "cjix0Iy4iDmA",
        "outputId": "c2576016-113b-4dcc-f1f4-fc4bf851b159",
        "colab": {
          "base_uri": "https://localhost:8080/"
        }
      },
      "execution_count": 20,
      "outputs": [
        {
          "output_type": "execute_result",
          "data": {
            "text/plain": [
              "array([ 3., -2.,  1., -1.])"
            ]
          },
          "metadata": {},
          "execution_count": 20
        }
      ]
    },
    {
      "cell_type": "markdown",
      "source": [
        "We can solve the XOR problem with a linear classifier:"
      ],
      "metadata": {
        "id": "Z0v48Ps4iRS_"
      }
    },
    {
      "cell_type": "code",
      "source": [
        "from sklearn.linear_model import Perceptron\n",
        "from sklearn.preprocessing import PolynomialFeatures\n",
        "import numpy as np\n",
        "X = np.array([[0, 0], [0, 1], [1, 0], [1, 1]])\n",
        "y = X[:, 0] ^ X[:, 1]\n",
        "y"
      ],
      "metadata": {
        "id": "vTTa9s9WiEWe",
        "outputId": "ef1c2177-2f34-44b8-ac0c-4d91640cc0dd",
        "colab": {
          "base_uri": "https://localhost:8080/"
        }
      },
      "execution_count": 21,
      "outputs": [
        {
          "output_type": "execute_result",
          "data": {
            "text/plain": [
              "array([0, 1, 1, 0])"
            ]
          },
          "metadata": {},
          "execution_count": 21
        }
      ]
    },
    {
      "cell_type": "code",
      "source": [
        "X = PolynomialFeatures(interaction_only=True).fit_transform(X).astype(int)\n",
        "X"
      ],
      "metadata": {
        "id": "xzApITB1iU98",
        "outputId": "511c5ef5-3145-438c-afa7-0b88e6cf374b",
        "colab": {
          "base_uri": "https://localhost:8080/"
        }
      },
      "execution_count": 22,
      "outputs": [
        {
          "output_type": "execute_result",
          "data": {
            "text/plain": [
              "array([[1, 0, 0, 0],\n",
              "       [1, 0, 1, 0],\n",
              "       [1, 1, 0, 0],\n",
              "       [1, 1, 1, 1]])"
            ]
          },
          "metadata": {},
          "execution_count": 22
        }
      ]
    },
    {
      "cell_type": "code",
      "source": [
        "clf = Perceptron(fit_intercept=False, max_iter=10, tol=None,\n",
        "                 shuffle=False).fit(X, y)"
      ],
      "metadata": {
        "id": "Iw6Io6LlicRr"
      },
      "execution_count": 23,
      "outputs": []
    },
    {
      "cell_type": "markdown",
      "source": [
        "And the classifier “predictions” are perfect:"
      ],
      "metadata": {
        "id": "7Cl7eINFii3o"
      }
    },
    {
      "cell_type": "code",
      "source": [
        "clf.predict(X)"
      ],
      "metadata": {
        "id": "NzWM3G0Zih7Q",
        "outputId": "5d67dde8-0981-4a26-cb20-9ac2a89141cc",
        "colab": {
          "base_uri": "https://localhost:8080/"
        }
      },
      "execution_count": 24,
      "outputs": [
        {
          "output_type": "execute_result",
          "data": {
            "text/plain": [
              "array([0, 1, 1, 0])"
            ]
          },
          "metadata": {},
          "execution_count": 24
        }
      ]
    },
    {
      "cell_type": "code",
      "source": [
        "clf.score(X, y)"
      ],
      "metadata": {
        "id": "s6PLhFoyilif",
        "outputId": "526b7280-8381-431d-a50f-9e43bf6c6d0b",
        "colab": {
          "base_uri": "https://localhost:8080/"
        }
      },
      "execution_count": 25,
      "outputs": [
        {
          "output_type": "execute_result",
          "data": {
            "text/plain": [
              "1.0"
            ]
          },
          "metadata": {},
          "execution_count": 25
        }
      ]
    }
  ]
}